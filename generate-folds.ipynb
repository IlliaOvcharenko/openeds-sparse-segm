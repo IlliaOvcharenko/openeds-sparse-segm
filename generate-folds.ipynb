{
 "cells": [
  {
   "cell_type": "code",
   "execution_count": 69,
   "metadata": {},
   "outputs": [],
   "source": [
    "%load_ext autoreload\n",
    "%autoreload 2"
   ]
  },
  {
   "cell_type": "code",
   "execution_count": 34,
   "metadata": {},
   "outputs": [],
   "source": [
    "import cv2\n",
    "import torch\n",
    "import torchvision\n",
    "\n",
    "import pandas as pd\n",
    "import numpy as np\n",
    "import seaborn as sns \n",
    "import matplotlib.pyplot as plt\n",
    "\n",
    "from tqdm.cli import tqdm\n",
    "from pathlib import Path\n",
    "from sklearn.model_selection import StratifiedKFold"
   ]
  },
  {
   "cell_type": "code",
   "execution_count": 41,
   "metadata": {},
   "outputs": [],
   "source": [
    "data_folder = Path(\"data\")\n",
    "folds_folder = Path(\"folds\")"
   ]
  },
  {
   "cell_type": "code",
   "execution_count": 45,
   "metadata": {},
   "outputs": [
    {
     "name": "stderr",
     "output_type": "stream",
     "text": [
      "100%|██████████| 200/200 [01:38<00:00,  2.02it/s]\n"
     ]
    }
   ],
   "source": [
    "def create_dataframes(data_folder):\n",
    "    df = pd.DataFrame()\n",
    "    for seq_folder in tqdm(list(data_folder.glob(\"S_*\"))):\n",
    "        seq_name = seq_folder.name\n",
    "        seq_num = int(seq_name.split(\"_\")[-1])\n",
    "\n",
    "        for img_fn in seq_folder.glob(\"*.png\"):\n",
    "            img_num = int(img_fn.stem)\n",
    "\n",
    "            img_info = {\n",
    "                \"seq\": seq_num,\n",
    "                \"order\": img_num,\n",
    "                \"img_filename\": img_fn,\n",
    "            }\n",
    "\n",
    "            mask_fn = seq_folder / f\"label_{img_num}.npy\"\n",
    "            if mask_fn.exists():\n",
    "                img_info[\"mask_filename\"] = mask_fn\n",
    "            df = df.append(img_info, ignore_index=True)\n",
    "\n",
    "    df = df.sort_values(by=[\"seq\", \"order\"])\n",
    "    train_df = df[df.mask_filename.notna()]\n",
    "    test_df = df[df.mask_filename.isna()]\n",
    "    \n",
    "    return train_df, test_df\n",
    "\n",
    "train_df, test_df = create_dataframes(data_folder)\n",
    "train_df.to_csv(data_folder / \"train.csv\", index=False)\n",
    "test_df.to_csv(data_folder / \"test.csv\", index=False)"
   ]
  },
  {
   "cell_type": "code",
   "execution_count": 48,
   "metadata": {},
   "outputs": [],
   "source": [
    "def stratified_k_fold(\n",
    "    description, \n",
    "    n_folds,\n",
    "    stratified_by,\n",
    "    random_state=42\n",
    "):\n",
    "    folds = []\n",
    "    \n",
    "    X = description\n",
    "    y = description[stratified_by]\n",
    "    \n",
    "    stratifier = StratifiedKFold(n_splits=n_folds, shuffle=True, random_state=42)\n",
    "\n",
    "    for _, test_indexes in stratifier.split(X, y):\n",
    "        folds.append(X.iloc[test_indexes])\n",
    "            \n",
    "\n",
    "    folds = [pd.DataFrame(fold, columns=description.columns) for fold in folds]\n",
    "    return folds"
   ]
  },
  {
   "cell_type": "code",
   "execution_count": 49,
   "metadata": {},
   "outputs": [],
   "source": [
    "folds = stratified_k_fold(train_df, 4, \"seq\")"
   ]
  },
  {
   "cell_type": "code",
   "execution_count": 50,
   "metadata": {},
   "outputs": [
    {
     "data": {
      "text/plain": [
       "<matplotlib.axes._subplots.AxesSubplot at 0x7f5310414e90>"
      ]
     },
     "execution_count": 50,
     "metadata": {},
     "output_type": "execute_result"
    },
    {
     "data": {
      "image/png": "[encoded data removed]",
      "text/plain": [
       "<Figure size 1440x360 with 1 Axes>"
      ]
     },
     "metadata": {
      "needs_background": "light"
     },
     "output_type": "display_data"
    }
   ],
   "source": [
    "plt.figure(figsize=(20, 5))\n",
    "plt.xticks(rotation='vertical')\n",
    "sns.countplot(train_df.seq)"
   ]
  },
  {
   "cell_type": "code",
   "execution_count": 51,
   "metadata": {},
   "outputs": [],
   "source": [
    "folds_folder = Path(\"folds\")\n",
    "\n",
    "for idx, fold in enumerate(folds):\n",
    "    fold_filename =  folds_folder / f\"fold_{idx}.csv\"\n",
    "    fold.to_csv(fold_filename, index=False)"
   ]
  },
  {
   "cell_type": "code",
   "execution_count": 59,
   "metadata": {},
   "outputs": [],
   "source": [
    "def load_splits(folds_folder, val_folds=[0], train_folds=None):\n",
    "    folds = [int(fn.stem.split('_')[-1]) for fn in folds_folder.glob(\"fold_?.csv\")]\n",
    "    \n",
    "    if train_folds is None:\n",
    "        train_folds = [f for f in folds if f not in val_folds]\n",
    "        \n",
    "    if val_folds is None:\n",
    "        train_folds = [f for f in folds if f not in train_folds]\n",
    "        \n",
    "    val = pd.concat([pd.read_csv(folds_folder / f\"fold_{fi}.csv\") for fi in val_folds])\n",
    "    train = pd.concat([pd.read_csv(folds_folder / f\"fold_{fi}.csv\") for fi in train_folds])\n",
    "    val = val.reset_index()\n",
    "    train = train.reset_index()\n",
    "    return train, val"
   ]
  },
  {
   "cell_type": "code",
   "execution_count": 60,
   "metadata": {},
   "outputs": [],
   "source": [
    "tr_df, val_df = load_splits(folds_folder)\n"
   ]
  },
  {
   "cell_type": "code",
   "execution_count": 68,
   "metadata": {},
   "outputs": [
    {
     "data": {
      "text/plain": [
       "((1203, 5), (402, 5))"
      ]
     },
     "execution_count": 68,
     "metadata": {},
     "output_type": "execute_result"
    }
   ],
   "source": [
    "tr_df.shape, val_df.shape"
   ]
  },
  {
   "cell_type": "code",
   "execution_count": 55,
   "metadata": {},
   "outputs": [
    {
     "data": {
      "text/html": [
       "<div>\n",
       "<style scoped>\n",
       "    .dataframe tbody tr th:only-of-type {\n",
       "        vertical-align: middle;\n",
       "    }\n",
       "\n",
       "    .dataframe tbody tr th {\n",
       "        vertical-align: top;\n",
       "    }\n",
       "\n",
       "    .dataframe thead th {\n",
       "        text-align: right;\n",
       "    }\n",
       "</style>\n",
       "<table border=\"1\" class=\"dataframe\">\n",
       "  <thead>\n",
       "    <tr style=\"text-align: right;\">\n",
       "      <th></th>\n",
       "      <th>index</th>\n",
       "      <th>img_filename</th>\n",
       "      <th>order</th>\n",
       "      <th>seq</th>\n",
       "      <th>mask_filename</th>\n",
       "    </tr>\n",
       "  </thead>\n",
       "  <tbody>\n",
       "    <tr>\n",
       "      <th>0</th>\n",
       "      <td>0</td>\n",
       "      <td>data/S_0/23.png</td>\n",
       "      <td>23.0</td>\n",
       "      <td>0.0</td>\n",
       "      <td>data/S_0/label_23.npy</td>\n",
       "    </tr>\n",
       "    <tr>\n",
       "      <th>1</th>\n",
       "      <td>1</td>\n",
       "      <td>data/S_0/41.png</td>\n",
       "      <td>41.0</td>\n",
       "      <td>0.0</td>\n",
       "      <td>data/S_0/label_41.npy</td>\n",
       "    </tr>\n",
       "    <tr>\n",
       "      <th>2</th>\n",
       "      <td>2</td>\n",
       "      <td>data/S_0/102.png</td>\n",
       "      <td>102.0</td>\n",
       "      <td>0.0</td>\n",
       "      <td>data/S_0/label_102.npy</td>\n",
       "    </tr>\n",
       "    <tr>\n",
       "      <th>401</th>\n",
       "      <td>0</td>\n",
       "      <td>data/S_0/42.png</td>\n",
       "      <td>42.0</td>\n",
       "      <td>0.0</td>\n",
       "      <td>data/S_0/label_42.npy</td>\n",
       "    </tr>\n",
       "    <tr>\n",
       "      <th>402</th>\n",
       "      <td>1</td>\n",
       "      <td>data/S_0/108.png</td>\n",
       "      <td>108.0</td>\n",
       "      <td>0.0</td>\n",
       "      <td>data/S_0/label_108.npy</td>\n",
       "    </tr>\n",
       "    <tr>\n",
       "      <th>403</th>\n",
       "      <td>2</td>\n",
       "      <td>data/S_0/120.png</td>\n",
       "      <td>120.0</td>\n",
       "      <td>0.0</td>\n",
       "      <td>data/S_0/label_120.npy</td>\n",
       "    </tr>\n",
       "    <tr>\n",
       "      <th>404</th>\n",
       "      <td>3</td>\n",
       "      <td>data/S_0/149.png</td>\n",
       "      <td>149.0</td>\n",
       "      <td>0.0</td>\n",
       "      <td>data/S_0/label_149.npy</td>\n",
       "    </tr>\n",
       "    <tr>\n",
       "      <th>802</th>\n",
       "      <td>0</td>\n",
       "      <td>data/S_0/21.png</td>\n",
       "      <td>21.0</td>\n",
       "      <td>0.0</td>\n",
       "      <td>data/S_0/label_21.npy</td>\n",
       "    </tr>\n",
       "    <tr>\n",
       "      <th>803</th>\n",
       "      <td>1</td>\n",
       "      <td>data/S_0/53.png</td>\n",
       "      <td>53.0</td>\n",
       "      <td>0.0</td>\n",
       "      <td>data/S_0/label_53.npy</td>\n",
       "    </tr>\n",
       "    <tr>\n",
       "      <th>804</th>\n",
       "      <td>2</td>\n",
       "      <td>data/S_0/132.png</td>\n",
       "      <td>132.0</td>\n",
       "      <td>0.0</td>\n",
       "      <td>data/S_0/label_132.npy</td>\n",
       "    </tr>\n",
       "  </tbody>\n",
       "</table>\n",
       "</div>"
      ],
      "text/plain": [
       "     index      img_filename  order  seq           mask_filename\n",
       "0        0   data/S_0/23.png   23.0  0.0   data/S_0/label_23.npy\n",
       "1        1   data/S_0/41.png   41.0  0.0   data/S_0/label_41.npy\n",
       "2        2  data/S_0/102.png  102.0  0.0  data/S_0/label_102.npy\n",
       "401      0   data/S_0/42.png   42.0  0.0   data/S_0/label_42.npy\n",
       "402      1  data/S_0/108.png  108.0  0.0  data/S_0/label_108.npy\n",
       "403      2  data/S_0/120.png  120.0  0.0  data/S_0/label_120.npy\n",
       "404      3  data/S_0/149.png  149.0  0.0  data/S_0/label_149.npy\n",
       "802      0   data/S_0/21.png   21.0  0.0   data/S_0/label_21.npy\n",
       "803      1   data/S_0/53.png   53.0  0.0   data/S_0/label_53.npy\n",
       "804      2  data/S_0/132.png  132.0  0.0  data/S_0/label_132.npy"
      ]
     },
     "execution_count": 55,
     "metadata": {},
     "output_type": "execute_result"
    }
   ],
   "source": [
    "tr_df[tr_df.seq == 0]"
   ]
  },
  {
   "cell_type": "code",
   "execution_count": 65,
   "metadata": {},
   "outputs": [
    {
     "data": {
      "text/html": [
       "<div>\n",
       "<style scoped>\n",
       "    .dataframe tbody tr th:only-of-type {\n",
       "        vertical-align: middle;\n",
       "    }\n",
       "\n",
       "    .dataframe tbody tr th {\n",
       "        vertical-align: top;\n",
       "    }\n",
       "\n",
       "    .dataframe thead th {\n",
       "        text-align: right;\n",
       "    }\n",
       "</style>\n",
       "<table border=\"1\" class=\"dataframe\">\n",
       "  <thead>\n",
       "    <tr style=\"text-align: right;\">\n",
       "      <th></th>\n",
       "      <th>index</th>\n",
       "      <th>img_filename</th>\n",
       "      <th>order</th>\n",
       "      <th>seq</th>\n",
       "      <th>mask_filename</th>\n",
       "    </tr>\n",
       "  </thead>\n",
       "  <tbody>\n",
       "    <tr>\n",
       "      <th>0</th>\n",
       "      <td>0</td>\n",
       "      <td>data/S_0/39.png</td>\n",
       "      <td>39.0</td>\n",
       "      <td>0.0</td>\n",
       "      <td>data/S_0/label_39.npy</td>\n",
       "    </tr>\n",
       "    <tr>\n",
       "      <th>1</th>\n",
       "      <td>1</td>\n",
       "      <td>data/S_0/86.png</td>\n",
       "      <td>86.0</td>\n",
       "      <td>0.0</td>\n",
       "      <td>data/S_0/label_86.npy</td>\n",
       "    </tr>\n",
       "    <tr>\n",
       "      <th>2</th>\n",
       "      <td>2</td>\n",
       "      <td>data/S_0/91.png</td>\n",
       "      <td>91.0</td>\n",
       "      <td>0.0</td>\n",
       "      <td>data/S_0/label_91.npy</td>\n",
       "    </tr>\n",
       "    <tr>\n",
       "      <th>3</th>\n",
       "      <td>3</td>\n",
       "      <td>data/S_0/137.png</td>\n",
       "      <td>137.0</td>\n",
       "      <td>0.0</td>\n",
       "      <td>data/S_0/label_137.npy</td>\n",
       "    </tr>\n",
       "  </tbody>\n",
       "</table>\n",
       "</div>"
      ],
      "text/plain": [
       "   index      img_filename  order  seq           mask_filename\n",
       "0      0   data/S_0/39.png   39.0  0.0   data/S_0/label_39.npy\n",
       "1      1   data/S_0/86.png   86.0  0.0   data/S_0/label_86.npy\n",
       "2      2   data/S_0/91.png   91.0  0.0   data/S_0/label_91.npy\n",
       "3      3  data/S_0/137.png  137.0  0.0  data/S_0/label_137.npy"
      ]
     },
     "execution_count": 65,
     "metadata": {},
     "output_type": "execute_result"
    }
   ],
   "source": [
    "val_df[val_df.seq == 0]"
   ]
  }
 ],
 "metadata": {
  "kernelspec": {
   "display_name": "Python 3",
   "language": "python",
   "name": "python3"
  },
  "language_info": {
   "codemirror_mode": {
    "name": "ipython",
    "version": 3
   },
   "file_extension": ".py",
   "mimetype": "text/x-python",
   "name": "python",
   "nbconvert_exporter": "python",
   "pygments_lexer": "ipython3",
   "version": "3.7.6"
  }
 },
 "nbformat": 4,
 "nbformat_minor": 4
}
