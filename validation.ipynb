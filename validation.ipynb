{
 "cells": [
  {
   "cell_type": "code",
   "execution_count": 1,
   "metadata": {},
   "outputs": [],
   "source": [
    "%load_ext autoreload\n",
    "%autoreload 2"
   ]
  },
  {
   "cell_type": "code",
   "execution_count": 2,
   "metadata": {},
   "outputs": [],
   "source": [
    "import cv2\n",
    "import torch\n",
    "import torchvision\n",
    "\n",
    "import pandas as pd\n",
    "import numpy as np\n",
    "import seaborn as sns \n",
    "import albumentations as A\n",
    "import matplotlib.pyplot as plt\n",
    "\n",
    "from pathlib import Path\n",
    "from tqdm.cli import tqdm\n",
    "from pytorch_toolbelt.inference import tta\n",
    "\n",
    "from src.data import EyeDataset\n",
    "from src.utils import load_splits\n",
    "from src.utils import custom_to_std_tensor\n",
    "from src.utils import denormalize\n",
    "from src.utils import eye_blend\n",
    "from src.config import load_config_from_ckpt\n",
    "from src.models import ModelEnsemble\n",
    "from src.train import validation"
   ]
  },
  {
   "cell_type": "code",
   "execution_count": 3,
   "metadata": {},
   "outputs": [],
   "source": [
    "data_folder = Path(\"data\")\n",
    "folds_folder = Path(\"folds\")\n",
    "models_folder = Path(\"models\")\n",
    "configs_folder = Path(\"configs\")\n",
    "figs_folder = Path(\"figs\")\n",
    "output_folder = Path(\"output\")\n",
    "submissions_folder = Path(\"submissions\")\n",
    "\n",
    "test_df = pd.read_csv(data_folder / \"test.csv\")"
   ]
  },
  {
   "cell_type": "markdown",
   "metadata": {},
   "source": [
    "## Single Model validation"
   ]
  },
  {
   "cell_type": "code",
   "execution_count": 39,
   "metadata": {},
   "outputs": [
    {
     "name": "stdout",
     "output_type": "stream",
     "text": [
      "Overwriting device = gpu (was gpu)\n",
      "Overwriting non-existing attribute checkpoint.filename = models/baseline-epoch-38-ckpt.pt\n",
      "Overwriting non-existing attribute checkpoint.filename = models/baseline-epoch-38-ckpt.pt\n",
      "Overwriting non-existing attribute checkpoint.model = True\n",
      "{'model': {'name': 'models.smp.Unet', 'params': {'encoder_name': 'efficientnet-b2', 'encoder_weights': 'imagenet', 'in_channels': 1, 'classes': 4, 'activation': None}}, 'device': 'gpu', 'criterion': {'name': 'L.JaccardLoss', 'params': {'mode': 'multiclass'}}, 'optimizer': {'name': 'torch.optim.Adam', 'params': {'lr': 0.001}}, 'scheduler': {'name': 'torch.optim.lr_scheduler.ReduceLROnPlateau', 'params': {'patience': 10, 'factor': 0.5, 'mode': 'max'}}, 'dataloaders': {'train': {'name': 'torch.utils.data.DataLoader', 'params': {'dataset': {'name': 'data.EyeDataset', 'params': {'df': {'name': 'utils.load_splits', 'params': {'folds_folder': {'path': 'folds'}, 'val_folds': [0], 'only_train': True}}, 'mode': 'train', 'transform': {'name': 'A.Compose', 'params': {'transforms': [{'name': 'A.Resize', 'params': {'height': 384, 'width': 640}}, {'name': 'A.HorizontalFlip'}, {'replace': 'utils.custom_to_std_tensor'}]}}}}, 'batch_size': 4, 'num_workers': 10, 'shuffle': True, 'sampler': None}}, 'val': {'name': 'torch.utils.data.DataLoader', 'params': {'dataset': {'name': 'data.EyeDataset', 'params': {'df': {'name': 'utils.load_splits', 'params': {'folds_folder': {'path': 'folds'}, 'val_folds': [0], 'only_val': True}}, 'mode': 'val', 'transform': {'name': 'A.Compose', 'params': {'transforms': [{'name': 'A.Resize', 'params': {'height': 384, 'width': 640}}, {'replace': 'utils.custom_to_std_tensor'}]}}}}, 'batch_size': 4, 'num_workers': 10, 'shuffle': False, 'sampler': None}}, 'test': {'name': 'torch.utils.data.DataLoader', 'params': {'dataset': {'name': 'data.EyeDataset', 'params': {'df': {'name': 'pd.read_csv', 'params': {'filepath_or_buffer': {'path': 'data/test.csv'}}}, 'mode': 'test', 'transform': {'name': 'A.Compose', 'params': {'transforms': [{'name': 'A.Resize', 'params': {'height': 384, 'width': 640}}, {'replace': 'utils.custom_to_std_tensor'}]}}, 'return_pos': True}}, 'batch_size': 8, 'num_workers': 10, 'shuffle': False, 'sampler': None}}}, 'metrics': {'mean_iou': {'name': 'metrics.get_jaccard_with_logits', 'params': {'class_ids': [1, 2, 3]}}, 'mean_with_bg_iou': {'name': 'metrics.get_jaccard_with_logits', 'params': {'class_ids': [0, 1, 2, 3]}}, 'sclera_iou': {'name': 'metrics.get_jaccard_with_logits', 'params': {'class_ids': 1}}, 'iris_iou': {'name': 'metrics.get_jaccard_with_logits', 'params': {'class_ids': 2}}, 'pupil_iou': {'name': 'metrics.get_jaccard_with_logits', 'params': {'class_ids': 3}}}, 'metrics_monitor': 'mean_iou', 'metrics_lower_is_better': False, 'metrics_initial_best_val': None, 'model_folder': {'path': 'models/'}, 'model_name': 'baseline', 'remove_previous_ckpt': True, 'log_folder': {'path': 'logs/'}, 'writer': True, 'writer_add_visualizations': True, 'epochs': 50, 'initial_epoch': 0, 'accumulation_steps': 1, 'checkpoint': {'filename': PosixPath('models/baseline-epoch-38-ckpt.pt'), 'model': True}}\n"
     ]
    },
    {
     "name": "stderr",
     "output_type": "stream",
     "text": [
      "validation phase:   0%|          | 0/101 [00:00<?, ?it/s]"
     ]
    },
    {
     "name": "stdout",
     "output_type": "stream",
     "text": [
      "Load model from state dict\n"
     ]
    },
    {
     "name": "stderr",
     "output_type": "stream",
     "text": [
      "validation phase: 100%|██████████| 101/101 [00:11<00:00,  8.98it/s]\n"
     ]
    },
    {
     "data": {
      "text/plain": [
       "{'val_loss': 0.05054121527505751,\n",
       " 'mean_iou': 0.9136595248582944,\n",
       " 'mean_with_bg_iou': 0.9335828500600597,\n",
       " 'sclera_iou': 0.8811745228458993,\n",
       " 'iris_iou': 0.950562122449353,\n",
       " 'pupil_iou': 0.9092418634476354}"
      ]
     },
     "execution_count": 39,
     "metadata": {},
     "output_type": "execute_result"
    }
   ],
   "source": [
    "config_filename = configs_folder / \"baseline.yml\"\n",
    "checkpoint_filename = models_folder / \"baseline-epoch-38-ckpt.pt\"\n",
    "config = load_config_from_ckpt(config_filename, checkpoint_filename)\n",
    "\n",
    "model = config.model\n",
    "model = tta.TTAWrapper(config.model, tta.fliplr_image2mask) \n",
    "\n",
    "validation(\n",
    "    model,\n",
    "    config.device,\n",
    "    config.criterion,\n",
    "    config.metrics,\n",
    "    config.dataloaders.val,\n",
    ")"
   ]
  },
  {
   "cell_type": "markdown",
   "metadata": {},
   "source": [
    "## Ensemble validation"
   ]
  },
  {
   "cell_type": "code",
   "execution_count": 5,
   "metadata": {},
   "outputs": [
    {
     "name": "stdout",
     "output_type": "stream",
     "text": [
      "Overwriting device = gpu (was gpu)\n",
      "Overwriting non-existing attribute checkpoint.filename = models/baseline-epoch-38-ckpt.pt\n",
      "Overwriting non-existing attribute checkpoint.filename = models/baseline-epoch-38-ckpt.pt\n",
      "Overwriting non-existing attribute checkpoint.model = True\n",
      "Load model from state dict\n",
      "Overwriting device = gpu (was gpu)\n",
      "Overwriting non-existing attribute checkpoint.filename = models/baseline-crossentoryloss-epoch-30-ckpt.pt\n",
      "Overwriting non-existing attribute checkpoint.filename = models/baseline-crossentoryloss-epoch-30-ckpt.pt\n",
      "Overwriting non-existing attribute checkpoint.model = True\n"
     ]
    },
    {
     "name": "stderr",
     "output_type": "stream",
     "text": [
      "validation phase:   0%|          | 0/101 [00:00<?, ?it/s]"
     ]
    },
    {
     "name": "stdout",
     "output_type": "stream",
     "text": [
      "Load model from state dict\n"
     ]
    },
    {
     "name": "stderr",
     "output_type": "stream",
     "text": [
      "validation phase: 100%|██████████| 101/101 [00:23<00:00,  4.24it/s]\n"
     ]
    },
    {
     "data": {
      "text/plain": [
       "{'val_loss': 0.051355925291331844,\n",
       " 'mean_iou': 0.912806399426057,\n",
       " 'mean_with_bg_iou': 0.9329317407821541,\n",
       " 'sclera_iou': 0.8798373810094388,\n",
       " 'iris_iou': 0.9499838897837928,\n",
       " 'pupil_iou': 0.9085978637287273}"
      ]
     },
     "execution_count": 5,
     "metadata": {},
     "output_type": "execute_result"
    }
   ],
   "source": [
    "configs = [\n",
    "    load_config_from_ckpt(\n",
    "        configs_folder / \"baseline.yml\",\n",
    "        models_folder / \"baseline-epoch-38-ckpt.pt\",\n",
    "        verbose=False,\n",
    "    ),\n",
    "    load_config_from_ckpt(\n",
    "        configs_folder / \"baseline-crossentoryloss.yml\",\n",
    "        models_folder / \"baseline-crossentoryloss-epoch-30-ckpt.pt\",\n",
    "        verbose=False,\n",
    "    ),   \n",
    "]\n",
    "\n",
    "model = ModelEnsemble([cnfg.model for cnfg in configs])\n",
    "model = tta.TTAWrapper(model, tta.fliplr_image2mask) \n",
    "\n",
    "validation(\n",
    "    model,\n",
    "    configs[0].device,\n",
    "    configs[0].criterion,\n",
    "    configs[0].metrics,\n",
    "    configs[0].dataloaders.val,\n",
    ")"
   ]
  }
 ],
 "metadata": {
  "kernelspec": {
   "display_name": "Python 3",
   "language": "python",
   "name": "python3"
  },
  "language_info": {
   "codemirror_mode": {
    "name": "ipython",
    "version": 3
   },
   "file_extension": ".py",
   "mimetype": "text/x-python",
   "name": "python",
   "nbconvert_exporter": "python",
   "pygments_lexer": "ipython3",
   "version": "3.7.6"
  }
 },
 "nbformat": 4,
 "nbformat_minor": 4
}
